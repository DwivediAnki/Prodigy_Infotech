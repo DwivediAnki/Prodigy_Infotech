{
 "cells": [
  {
   "cell_type": "markdown",
   "id": "fe435486",
   "metadata": {},
   "source": [
    "# Prodigy Infotech"
   ]
  },
  {
   "cell_type": "markdown",
   "id": "13f00690",
   "metadata": {},
   "source": [
    "# Author : Ankita Dwivedi\n"
   ]
  },
  {
   "cell_type": "markdown",
   "id": "bb8cf9a4",
   "metadata": {},
   "source": [
    "Data Science"
   ]
  },
  {
   "cell_type": "markdown",
   "id": "9236da9b",
   "metadata": {},
   "source": [
    "Task-04"
   ]
  },
  {
   "cell_type": "markdown",
   "id": "b2e49644",
   "metadata": {},
   "source": [
    "Task : Analyze and visualize sentiment patterns in social media data to understand public opinion and attitudes towards specific topics or brands."
   ]
  },
  {
   "cell_type": "markdown",
   "id": "8a6d722f",
   "metadata": {},
   "source": [
    "DataSet Link:  https://www.kaggle.com/datasets/jp797498e/twitter-entity-sentiment-analysis"
   ]
  },
  {
   "cell_type": "code",
   "execution_count": 2,
   "id": "bb5e3051",
   "metadata": {},
   "outputs": [],
   "source": [
    "import numpy as np\n",
    "import pandas as pd\n",
    "import matplotlib.pyplot as plt\n",
    "import seaborn as sns\n",
    "import warnings\n",
    "warnings.filterwarnings('ignore')\n",
    "import os\n",
    "     "
   ]
  },
  {
   "cell_type": "code",
   "execution_count": 9,
   "id": "e15e2e8d",
   "metadata": {},
   "outputs": [],
   "source": [
    "col = ['Id', 'Entity', 'Sentiment', 'Content']\n",
    "file_path = r\"C:\\Users\\Ankita Dwivedi\\Downloads\\archive (2)\\twitter_training.csv\"\n",
    "\n",
    "df_train = pd.read_csv(file_path, names=col)"
   ]
  },
  {
   "cell_type": "code",
   "execution_count": 11,
   "id": "6b7d30a2",
   "metadata": {},
   "outputs": [],
   "source": [
    "col = ['Id', 'Entity', 'Sentiment', 'Content']\n",
    "file_path = r\"C:\\Users\\Ankita Dwivedi\\Downloads\\archive (2)\\twitter_validation.csv\"\n",
    "\n",
    "df_test = pd.read_csv(file_path, names=col)"
   ]
  },
  {
   "cell_type": "code",
   "execution_count": 12,
   "id": "d79e56cb",
   "metadata": {},
   "outputs": [
    {
     "data": {
      "text/html": [
       "<div>\n",
       "<style scoped>\n",
       "    .dataframe tbody tr th:only-of-type {\n",
       "        vertical-align: middle;\n",
       "    }\n",
       "\n",
       "    .dataframe tbody tr th {\n",
       "        vertical-align: top;\n",
       "    }\n",
       "\n",
       "    .dataframe thead th {\n",
       "        text-align: right;\n",
       "    }\n",
       "</style>\n",
       "<table border=\"1\" class=\"dataframe\">\n",
       "  <thead>\n",
       "    <tr style=\"text-align: right;\">\n",
       "      <th></th>\n",
       "      <th>Id</th>\n",
       "      <th>Entity</th>\n",
       "      <th>Sentiment</th>\n",
       "      <th>Content</th>\n",
       "    </tr>\n",
       "  </thead>\n",
       "  <tbody>\n",
       "    <tr>\n",
       "      <th>0</th>\n",
       "      <td>2401</td>\n",
       "      <td>Borderlands</td>\n",
       "      <td>Positive</td>\n",
       "      <td>im getting on borderlands and i will murder yo...</td>\n",
       "    </tr>\n",
       "    <tr>\n",
       "      <th>1</th>\n",
       "      <td>2401</td>\n",
       "      <td>Borderlands</td>\n",
       "      <td>Positive</td>\n",
       "      <td>I am coming to the borders and I will kill you...</td>\n",
       "    </tr>\n",
       "    <tr>\n",
       "      <th>2</th>\n",
       "      <td>2401</td>\n",
       "      <td>Borderlands</td>\n",
       "      <td>Positive</td>\n",
       "      <td>im getting on borderlands and i will kill you ...</td>\n",
       "    </tr>\n",
       "    <tr>\n",
       "      <th>3</th>\n",
       "      <td>2401</td>\n",
       "      <td>Borderlands</td>\n",
       "      <td>Positive</td>\n",
       "      <td>im coming on borderlands and i will murder you...</td>\n",
       "    </tr>\n",
       "    <tr>\n",
       "      <th>4</th>\n",
       "      <td>2401</td>\n",
       "      <td>Borderlands</td>\n",
       "      <td>Positive</td>\n",
       "      <td>im getting on borderlands 2 and i will murder ...</td>\n",
       "    </tr>\n",
       "    <tr>\n",
       "      <th>...</th>\n",
       "      <td>...</td>\n",
       "      <td>...</td>\n",
       "      <td>...</td>\n",
       "      <td>...</td>\n",
       "    </tr>\n",
       "    <tr>\n",
       "      <th>74677</th>\n",
       "      <td>9200</td>\n",
       "      <td>Nvidia</td>\n",
       "      <td>Positive</td>\n",
       "      <td>Just realized that the Windows partition of my...</td>\n",
       "    </tr>\n",
       "    <tr>\n",
       "      <th>74678</th>\n",
       "      <td>9200</td>\n",
       "      <td>Nvidia</td>\n",
       "      <td>Positive</td>\n",
       "      <td>Just realized that my Mac window partition is ...</td>\n",
       "    </tr>\n",
       "    <tr>\n",
       "      <th>74679</th>\n",
       "      <td>9200</td>\n",
       "      <td>Nvidia</td>\n",
       "      <td>Positive</td>\n",
       "      <td>Just realized the windows partition of my Mac ...</td>\n",
       "    </tr>\n",
       "    <tr>\n",
       "      <th>74680</th>\n",
       "      <td>9200</td>\n",
       "      <td>Nvidia</td>\n",
       "      <td>Positive</td>\n",
       "      <td>Just realized between the windows partition of...</td>\n",
       "    </tr>\n",
       "    <tr>\n",
       "      <th>74681</th>\n",
       "      <td>9200</td>\n",
       "      <td>Nvidia</td>\n",
       "      <td>Positive</td>\n",
       "      <td>Just like the windows partition of my Mac is l...</td>\n",
       "    </tr>\n",
       "  </tbody>\n",
       "</table>\n",
       "<p>74682 rows × 4 columns</p>\n",
       "</div>"
      ],
      "text/plain": [
       "         Id       Entity Sentiment  \\\n",
       "0      2401  Borderlands  Positive   \n",
       "1      2401  Borderlands  Positive   \n",
       "2      2401  Borderlands  Positive   \n",
       "3      2401  Borderlands  Positive   \n",
       "4      2401  Borderlands  Positive   \n",
       "...     ...          ...       ...   \n",
       "74677  9200       Nvidia  Positive   \n",
       "74678  9200       Nvidia  Positive   \n",
       "74679  9200       Nvidia  Positive   \n",
       "74680  9200       Nvidia  Positive   \n",
       "74681  9200       Nvidia  Positive   \n",
       "\n",
       "                                                 Content  \n",
       "0      im getting on borderlands and i will murder yo...  \n",
       "1      I am coming to the borders and I will kill you...  \n",
       "2      im getting on borderlands and i will kill you ...  \n",
       "3      im coming on borderlands and i will murder you...  \n",
       "4      im getting on borderlands 2 and i will murder ...  \n",
       "...                                                  ...  \n",
       "74677  Just realized that the Windows partition of my...  \n",
       "74678  Just realized that my Mac window partition is ...  \n",
       "74679  Just realized the windows partition of my Mac ...  \n",
       "74680  Just realized between the windows partition of...  \n",
       "74681  Just like the windows partition of my Mac is l...  \n",
       "\n",
       "[74682 rows x 4 columns]"
      ]
     },
     "execution_count": 12,
     "metadata": {},
     "output_type": "execute_result"
    }
   ],
   "source": [
    "df_train"
   ]
  },
  {
   "cell_type": "markdown",
   "id": "ceee72de",
   "metadata": {},
   "source": [
    "# Data Summary"
   ]
  },
  {
   "cell_type": "code",
   "execution_count": 13,
   "id": "055024ce",
   "metadata": {},
   "outputs": [
    {
     "data": {
      "text/plain": [
       "(74682, 4)"
      ]
     },
     "execution_count": 13,
     "metadata": {},
     "output_type": "execute_result"
    }
   ],
   "source": [
    "df_train.shape"
   ]
  },
  {
   "cell_type": "code",
   "execution_count": 14,
   "id": "b938ca23",
   "metadata": {},
   "outputs": [
    {
     "data": {
      "text/plain": [
       "Index(['Id', 'Entity', 'Sentiment', 'Content'], dtype='object')"
      ]
     },
     "execution_count": 14,
     "metadata": {},
     "output_type": "execute_result"
    }
   ],
   "source": [
    "df_train.columns"
   ]
  },
  {
   "cell_type": "code",
   "execution_count": 15,
   "id": "7b3ff41b",
   "metadata": {},
   "outputs": [
    {
     "name": "stdout",
     "output_type": "stream",
     "text": [
      "<class 'pandas.core.frame.DataFrame'>\n",
      "RangeIndex: 74682 entries, 0 to 74681\n",
      "Data columns (total 4 columns):\n",
      " #   Column     Non-Null Count  Dtype \n",
      "---  ------     --------------  ----- \n",
      " 0   Id         74682 non-null  int64 \n",
      " 1   Entity     74682 non-null  object\n",
      " 2   Sentiment  74682 non-null  object\n",
      " 3   Content    73996 non-null  object\n",
      "dtypes: int64(1), object(3)\n",
      "memory usage: 2.3+ MB\n"
     ]
    }
   ],
   "source": [
    "df_train.info()"
   ]
  },
  {
   "cell_type": "code",
   "execution_count": 16,
   "id": "16e1e9ef",
   "metadata": {},
   "outputs": [
    {
     "data": {
      "text/plain": [
       "Id            int64\n",
       "Entity       object\n",
       "Sentiment    object\n",
       "Content      object\n",
       "dtype: object"
      ]
     },
     "execution_count": 16,
     "metadata": {},
     "output_type": "execute_result"
    }
   ],
   "source": [
    "df_train.dtypes"
   ]
  },
  {
   "cell_type": "markdown",
   "id": "e4471d64",
   "metadata": {},
   "source": [
    "# Data Cleaning"
   ]
  },
  {
   "cell_type": "code",
   "execution_count": 17,
   "id": "247b8989",
   "metadata": {},
   "outputs": [
    {
     "data": {
      "text/plain": [
       "Id             0\n",
       "Entity         0\n",
       "Sentiment      0\n",
       "Content      686\n",
       "dtype: int64"
      ]
     },
     "execution_count": 17,
     "metadata": {},
     "output_type": "execute_result"
    }
   ],
   "source": [
    "df_train.isnull().sum()"
   ]
  },
  {
   "cell_type": "code",
   "execution_count": 18,
   "id": "d211af94",
   "metadata": {},
   "outputs": [],
   "source": [
    "df_train.dropna(subset=['Content'] , inplace=True)"
   ]
  },
  {
   "cell_type": "code",
   "execution_count": 19,
   "id": "1fd307a3",
   "metadata": {},
   "outputs": [
    {
     "data": {
      "text/plain": [
       "(73996, 4)"
      ]
     },
     "execution_count": 19,
     "metadata": {},
     "output_type": "execute_result"
    }
   ],
   "source": [
    "df_train.shape"
   ]
  },
  {
   "cell_type": "code",
   "execution_count": 20,
   "id": "c86b160f",
   "metadata": {},
   "outputs": [
    {
     "data": {
      "text/plain": [
       "array(['Positive', 'Neutral', 'Negative', 'Irrelevant'], dtype=object)"
      ]
     },
     "execution_count": 20,
     "metadata": {},
     "output_type": "execute_result"
    }
   ],
   "source": [
    "df_train.Sentiment.unique()"
   ]
  },
  {
   "cell_type": "code",
   "execution_count": 21,
   "id": "4cc6633b",
   "metadata": {},
   "outputs": [],
   "source": [
    "df_train.Sentiment=df_train.Sentiment.replace('Irrelevant' , 'Neutral')\n",
    "df_test.Sentiment=df_test.Sentiment.replace('Irrelevant' , 'Neutral')"
   ]
  },
  {
   "cell_type": "code",
   "execution_count": 23,
   "id": "0a228eef",
   "metadata": {},
   "outputs": [
    {
     "data": {
      "text/plain": [
       "array(['Positive', 'Neutral', 'Negative'], dtype=object)"
      ]
     },
     "execution_count": 23,
     "metadata": {},
     "output_type": "execute_result"
    }
   ],
   "source": [
    "df_train.Sentiment.unique()"
   ]
  },
  {
   "cell_type": "markdown",
   "id": "0168bb8b",
   "metadata": {},
   "source": [
    "# EDA - Explorartory Data Analysi"
   ]
  },
  {
   "cell_type": "code",
   "execution_count": 24,
   "id": "94e279e6",
   "metadata": {},
   "outputs": [
    {
     "data": {
      "text/plain": [
       "Neutral     30983\n",
       "Negative    22358\n",
       "Positive    20655\n",
       "Name: Sentiment, dtype: int64"
      ]
     },
     "execution_count": 24,
     "metadata": {},
     "output_type": "execute_result"
    }
   ],
   "source": [
    "sentiment_count=df_train.Sentiment.value_counts()\n",
    "sentiment_count"
   ]
  },
  {
   "cell_type": "code",
   "execution_count": 25,
   "id": "cc97a906",
   "metadata": {},
   "outputs": [
    {
     "data": {
      "image/png": "[encoded data removed]",
      "text/plain": [
       "<Figure size 640x480 with 1 Axes>"
      ]
     },
     "metadata": {},
     "output_type": "display_data"
    }
   ],
   "source": [
    "y=['Neutral' , 'Negative' , 'Positive']\n",
    "plt.pie(sentiment_count , labels=y, autopct='%0.1f%%' )\n",
    "circle=plt.Circle((0,0),0.4, facecolor='white')\n",
    "plt.gca().add_patch(circle)\n",
    "plt.legend(bbox_to_anchor=(1.05, 1), loc='upper left')\n",
    "plt.show()"
   ]
  },
  {
   "cell_type": "code",
   "execution_count": 26,
   "id": "6f36ab24",
   "metadata": {},
   "outputs": [
    {
     "data": {
      "text/plain": [
       "array(['Borderlands', 'CallOfDutyBlackopsColdWar', 'Amazon', 'Overwatch',\n",
       "       'Xbox(Xseries)', 'NBA2K', 'Dota2', 'PlayStation5(PS5)',\n",
       "       'WorldOfCraft', 'CS-GO', 'Google', 'AssassinsCreed', 'ApexLegends',\n",
       "       'LeagueOfLegends', 'Fortnite', 'Microsoft', 'Hearthstone',\n",
       "       'Battlefield', 'PlayerUnknownsBattlegrounds(PUBG)', 'Verizon',\n",
       "       'HomeDepot', 'FIFA', 'RedDeadRedemption(RDR)', 'CallOfDuty',\n",
       "       'TomClancysRainbowSix', 'Facebook', 'GrandTheftAuto(GTA)',\n",
       "       'MaddenNFL', 'johnson&johnson', 'Cyberpunk2077',\n",
       "       'TomClancysGhostRecon', 'Nvidia'], dtype=object)"
      ]
     },
     "execution_count": 26,
     "metadata": {},
     "output_type": "execute_result"
    }
   ],
   "source": [
    "df_train.Entity.unique()"
   ]
  },
  {
   "cell_type": "code",
   "execution_count": 27,
   "id": "78b8b07d",
   "metadata": {},
   "outputs": [
    {
     "data": {
      "text/plain": [
       "MaddenNFL                            2377\n",
       "LeagueOfLegends                      2377\n",
       "CallOfDuty                           2376\n",
       "Verizon                              2365\n",
       "TomClancysRainbowSix                 2364\n",
       "Facebook                             2362\n",
       "Microsoft                            2361\n",
       "Dota2                                2359\n",
       "WorldOfCraft                         2357\n",
       "ApexLegends                          2353\n",
       "NBA2K                                2343\n",
       "CallOfDutyBlackopsColdWar            2343\n",
       "FIFA                                 2324\n",
       "johnson&johnson                      2324\n",
       "TomClancysGhostRecon                 2321\n",
       "Battlefield                          2316\n",
       "Overwatch                            2316\n",
       "GrandTheftAuto(GTA)                  2293\n",
       "HomeDepot                            2292\n",
       "PlayStation5(PS5)                    2291\n",
       "Hearthstone                          2286\n",
       "CS-GO                                2284\n",
       "Xbox(Xseries)                        2283\n",
       "Borderlands                          2280\n",
       "Amazon                               2276\n",
       "Google                               2274\n",
       "Nvidia                               2271\n",
       "Cyberpunk2077                        2262\n",
       "RedDeadRedemption(RDR)               2249\n",
       "Fortnite                             2249\n",
       "PlayerUnknownsBattlegrounds(PUBG)    2234\n",
       "AssassinsCreed                       2234\n",
       "Name: Entity, dtype: int64"
      ]
     },
     "execution_count": 27,
     "metadata": {},
     "output_type": "execute_result"
    }
   ],
   "source": [
    "Entity_count=df_train.Entity.value_counts()\n",
    "Entity_count"
   ]
  },
  {
   "cell_type": "code",
   "execution_count": 28,
   "id": "fe2bf904",
   "metadata": {},
   "outputs": [],
   "source": [
    "Entity_sort=Entity_count.sort_values(ascending=False)"
   ]
  },
  {
   "cell_type": "code",
   "execution_count": 29,
   "id": "33400a18",
   "metadata": {},
   "outputs": [
    {
     "data": {
      "text/plain": [
       "MaddenNFL               2377\n",
       "LeagueOfLegends         2377\n",
       "CallOfDuty              2376\n",
       "Verizon                 2365\n",
       "TomClancysRainbowSix    2364\n",
       "Facebook                2362\n",
       "Microsoft               2361\n",
       "Dota2                   2359\n",
       "WorldOfCraft            2357\n",
       "ApexLegends             2353\n",
       "Name: Entity, dtype: int64"
      ]
     },
     "execution_count": 29,
     "metadata": {},
     "output_type": "execute_result"
    }
   ],
   "source": [
    "Entity_top10=Entity_sort.head(10)\n",
    "Entity_top10"
   ]
  },
  {
   "cell_type": "code",
   "execution_count": 30,
   "id": "aa2a8e1b",
   "metadata": {},
   "outputs": [],
   "source": [
    "Entity_index=Entity_top10.index"
   ]
  },
  {
   "cell_type": "code",
   "execution_count": 33,
   "id": "2cadaa43",
   "metadata": {},
   "outputs": [
    {
     "data": {
      "image/png": "[encoded data removed]",
      "text/plain": [
       "<Figure size 1300x500 with 1 Axes>"
      ]
     },
     "metadata": {},
     "output_type": "display_data"
    }
   ],
   "source": [
    "plt.figure(figsize=(13,5))\n",
    "\n",
    "x=['ApexLegends' , 'WorldOfCraft' , 'Dota2' , 'Microsoft' , 'Facebook' , 'TomClancysRainbowSix' , 'Verizon' , 'CallOfDuty' , 'LeagueOfLegends' , 'MaddenNFL']\n",
    "y=[2353,2357,2359,2361,2362,2364,2365,2367,2377,2377]\n",
    "\n",
    "plt.bar( x , y , alpha=0.7 , color='red')\n",
    "\n",
    "for i,v in enumerate(y):\n",
    "    plt.text(i,v,str(v),ha='center',weight='bold' )\n",
    "\n",
    "plt.xticks(rotation=45)\n",
    "plt.xlabel('Entity')\n",
    "plt.ylabel('Number of Post in twitter')\n",
    "plt.show()"
   ]
  },
  {
   "cell_type": "code",
   "execution_count": 34,
   "id": "2f1aa225",
   "metadata": {},
   "outputs": [
    {
     "data": {
      "text/plain": [
       "MaddenNFL          2377\n",
       "LeagueOfLegends    2377\n",
       "CallOfDuty         2376\n",
       "Name: Entity, dtype: int64"
      ]
     },
     "execution_count": 34,
     "metadata": {},
     "output_type": "execute_result"
    }
   ],
   "source": [
    "Entity_top3_df=Entity_sort.head(3)\n",
    "Entity_top3_df"
   ]
  },
  {
   "cell_type": "code",
   "execution_count": 35,
   "id": "a91269d4",
   "metadata": {},
   "outputs": [
    {
     "data": {
      "text/plain": [
       "['MaddenNFL', 'LeagueOfLegends', 'CallOfDuty']"
      ]
     },
     "execution_count": 35,
     "metadata": {},
     "output_type": "execute_result"
    }
   ],
   "source": [
    "Entity_top3=Entity_top3_df.index.tolist()\n",
    "Entity_top3"
   ]
  },
  {
   "cell_type": "code",
   "execution_count": 36,
   "id": "42b66652",
   "metadata": {},
   "outputs": [
    {
     "data": {
      "text/plain": [
       "Entity           Sentiment\n",
       "CallOfDuty       Negative      883\n",
       "                 Neutral      1047\n",
       "                 Positive      446\n",
       "LeagueOfLegends  Negative      632\n",
       "                 Neutral      1130\n",
       "                 Positive      615\n",
       "MaddenNFL        Negative     1694\n",
       "                 Neutral       287\n",
       "                 Positive      396\n",
       "Name: Sentiment, dtype: int64"
      ]
     },
     "execution_count": 36,
     "metadata": {},
     "output_type": "execute_result"
    }
   ],
   "source": [
    "sentiment_by_entity=df_train.loc[df_train['Entity'].isin(Entity_top3)].groupby('Entity')['Sentiment'].value_counts().sort_index()\n",
    "sentiment_by_entity"
   ]
  },
  {
   "cell_type": "markdown",
   "id": "735e4f74",
   "metadata": {},
   "source": [
    "# Model"
   ]
  },
  {
   "cell_type": "code",
   "execution_count": 38,
   "id": "b984ddc5",
   "metadata": {},
   "outputs": [
    {
     "data": {
      "image/png": "[encoded data removed]",
      "text/plain": [
       "<Figure size 1000x500 with 3 Axes>"
      ]
     },
     "metadata": {},
     "output_type": "display_data"
    }
   ],
   "source": [
    "plt.figure(figsize=(10, 5))\n",
    "\n",
    "y = ['Neutral', 'Negative', 'Positive']\n",
    "color = ['#9C6383', '#839C63', '#63839C']\n",
    "\n",
    "# Pie chart 1\n",
    "plt.subplot(1, 3, 1)\n",
    "plt.pie(sentiment_by_entity[:3], labels=y, autopct='%0.1f%%', textprops={'fontsize': 10}, colors=color)\n",
    "plt.legend(labels=y, bbox_to_anchor=(1.05, 1), loc='upper left', fontsize=10, title='Sentiment', title_fontsize=10)\n",
    "\n",
    "# Pie chart 2\n",
    "plt.subplot(1, 3, 2)\n",
    "plt.pie(sentiment_by_entity[3:6], labels=y, autopct='%0.1f%%', textprops={'fontsize': 10}, colors=color)\n",
    "plt.legend(labels=y, bbox_to_anchor=(1.05, 1), loc='upper left', fontsize=10, title='Sentiment', title_fontsize=10)\n",
    "\n",
    "# Pie chart 3\n",
    "plt.subplot(1, 3, 3)\n",
    "plt.pie(sentiment_by_entity[6:], labels=y, autopct='%0.1f%%', textprops={'fontsize': 10}, colors=color)\n",
    "plt.legend(labels=y, bbox_to_anchor=(1.05, 1), loc='upper left', fontsize=10, title='Sentiment', title_fontsize=10)\n",
    "\n",
    "plt.tight_layout()\n",
    "plt.show()\n"
   ]
  },
  {
   "cell_type": "code",
   "execution_count": 39,
   "id": "a0e62d54",
   "metadata": {},
   "outputs": [
    {
     "data": {
      "text/html": [
       "<div>\n",
       "<style scoped>\n",
       "    .dataframe tbody tr th:only-of-type {\n",
       "        vertical-align: middle;\n",
       "    }\n",
       "\n",
       "    .dataframe tbody tr th {\n",
       "        vertical-align: top;\n",
       "    }\n",
       "\n",
       "    .dataframe thead th {\n",
       "        text-align: right;\n",
       "    }\n",
       "</style>\n",
       "<table border=\"1\" class=\"dataframe\">\n",
       "  <thead>\n",
       "    <tr style=\"text-align: right;\">\n",
       "      <th></th>\n",
       "      <th>Id</th>\n",
       "      <th>Entity</th>\n",
       "      <th>Sentiment</th>\n",
       "      <th>Content</th>\n",
       "    </tr>\n",
       "  </thead>\n",
       "  <tbody>\n",
       "    <tr>\n",
       "      <th>0</th>\n",
       "      <td>2401</td>\n",
       "      <td>Borderlands</td>\n",
       "      <td>Positive</td>\n",
       "      <td>im getting on borderlands and i will murder yo...</td>\n",
       "    </tr>\n",
       "    <tr>\n",
       "      <th>1</th>\n",
       "      <td>2401</td>\n",
       "      <td>Borderlands</td>\n",
       "      <td>Positive</td>\n",
       "      <td>I am coming to the borders and I will kill you...</td>\n",
       "    </tr>\n",
       "    <tr>\n",
       "      <th>2</th>\n",
       "      <td>2401</td>\n",
       "      <td>Borderlands</td>\n",
       "      <td>Positive</td>\n",
       "      <td>im getting on borderlands and i will kill you ...</td>\n",
       "    </tr>\n",
       "    <tr>\n",
       "      <th>3</th>\n",
       "      <td>2401</td>\n",
       "      <td>Borderlands</td>\n",
       "      <td>Positive</td>\n",
       "      <td>im coming on borderlands and i will murder you...</td>\n",
       "    </tr>\n",
       "    <tr>\n",
       "      <th>4</th>\n",
       "      <td>2401</td>\n",
       "      <td>Borderlands</td>\n",
       "      <td>Positive</td>\n",
       "      <td>im getting on borderlands 2 and i will murder ...</td>\n",
       "    </tr>\n",
       "    <tr>\n",
       "      <th>...</th>\n",
       "      <td>...</td>\n",
       "      <td>...</td>\n",
       "      <td>...</td>\n",
       "      <td>...</td>\n",
       "    </tr>\n",
       "    <tr>\n",
       "      <th>74677</th>\n",
       "      <td>9200</td>\n",
       "      <td>Nvidia</td>\n",
       "      <td>Positive</td>\n",
       "      <td>Just realized that the Windows partition of my...</td>\n",
       "    </tr>\n",
       "    <tr>\n",
       "      <th>74678</th>\n",
       "      <td>9200</td>\n",
       "      <td>Nvidia</td>\n",
       "      <td>Positive</td>\n",
       "      <td>Just realized that my Mac window partition is ...</td>\n",
       "    </tr>\n",
       "    <tr>\n",
       "      <th>74679</th>\n",
       "      <td>9200</td>\n",
       "      <td>Nvidia</td>\n",
       "      <td>Positive</td>\n",
       "      <td>Just realized the windows partition of my Mac ...</td>\n",
       "    </tr>\n",
       "    <tr>\n",
       "      <th>74680</th>\n",
       "      <td>9200</td>\n",
       "      <td>Nvidia</td>\n",
       "      <td>Positive</td>\n",
       "      <td>Just realized between the windows partition of...</td>\n",
       "    </tr>\n",
       "    <tr>\n",
       "      <th>74681</th>\n",
       "      <td>9200</td>\n",
       "      <td>Nvidia</td>\n",
       "      <td>Positive</td>\n",
       "      <td>Just like the windows partition of my Mac is l...</td>\n",
       "    </tr>\n",
       "  </tbody>\n",
       "</table>\n",
       "<p>73996 rows × 4 columns</p>\n",
       "</div>"
      ],
      "text/plain": [
       "         Id       Entity Sentiment  \\\n",
       "0      2401  Borderlands  Positive   \n",
       "1      2401  Borderlands  Positive   \n",
       "2      2401  Borderlands  Positive   \n",
       "3      2401  Borderlands  Positive   \n",
       "4      2401  Borderlands  Positive   \n",
       "...     ...          ...       ...   \n",
       "74677  9200       Nvidia  Positive   \n",
       "74678  9200       Nvidia  Positive   \n",
       "74679  9200       Nvidia  Positive   \n",
       "74680  9200       Nvidia  Positive   \n",
       "74681  9200       Nvidia  Positive   \n",
       "\n",
       "                                                 Content  \n",
       "0      im getting on borderlands and i will murder yo...  \n",
       "1      I am coming to the borders and I will kill you...  \n",
       "2      im getting on borderlands and i will kill you ...  \n",
       "3      im coming on borderlands and i will murder you...  \n",
       "4      im getting on borderlands 2 and i will murder ...  \n",
       "...                                                  ...  \n",
       "74677  Just realized that the Windows partition of my...  \n",
       "74678  Just realized that my Mac window partition is ...  \n",
       "74679  Just realized the windows partition of my Mac ...  \n",
       "74680  Just realized between the windows partition of...  \n",
       "74681  Just like the windows partition of my Mac is l...  \n",
       "\n",
       "[73996 rows x 4 columns]"
      ]
     },
     "execution_count": 39,
     "metadata": {},
     "output_type": "execute_result"
    }
   ],
   "source": [
    "df_train"
   ]
  },
  {
   "cell_type": "code",
   "execution_count": 40,
   "id": "b635cd78",
   "metadata": {},
   "outputs": [],
   "source": [
    "df_train.drop(['Id'] , axis=1 , inplace=True)"
   ]
  },
  {
   "cell_type": "code",
   "execution_count": 41,
   "id": "ca6e1cf9",
   "metadata": {},
   "outputs": [],
   "source": [
    "df_test.drop(['Id'] , axis=1 , inplace=True)"
   ]
  },
  {
   "cell_type": "code",
   "execution_count": 42,
   "id": "f587e4e9",
   "metadata": {},
   "outputs": [],
   "source": [
    "#train test split\n",
    "X_train=df_train.drop(['Sentiment'] , axis=1)\n",
    "X_test=df_test.drop(['Sentiment'] , axis=1)\n",
    "y_train=df_train['Sentiment']\n",
    "y_test=df_test['Sentiment']"
   ]
  },
  {
   "cell_type": "code",
   "execution_count": 43,
   "id": "4ff06d79",
   "metadata": {},
   "outputs": [
    {
     "data": {
      "text/plain": [
       "array(['Positive', 'Neutral', 'Negative'], dtype=object)"
      ]
     },
     "execution_count": 43,
     "metadata": {},
     "output_type": "execute_result"
    }
   ],
   "source": [
    "df_train.Sentiment.unique()"
   ]
  },
  {
   "cell_type": "code",
   "execution_count": 44,
   "id": "338b6dbe",
   "metadata": {},
   "outputs": [],
   "source": [
    "#count the no of words in a sentence\n",
    "from sklearn.feature_extraction.text import CountVectorizer"
   ]
  },
  {
   "cell_type": "code",
   "execution_count": 45,
   "id": "2fd5e62b",
   "metadata": {},
   "outputs": [],
   "source": [
    "v=CountVectorizer()\n",
    "X_train_count=v.fit_transform(X_train.Content)\n",
    "   "
   ]
  },
  {
   "cell_type": "code",
   "execution_count": 46,
   "id": "eae087ee",
   "metadata": {},
   "outputs": [],
   "source": [
    "#label Encoding\n",
    "from sklearn.preprocessing import LabelEncoder\n",
    "le=LabelEncoder()\n",
    "y_train=le.fit_transform(y_train)\n",
    "y_test=le.fit_transform(y_test)"
   ]
  },
  {
   "cell_type": "code",
   "execution_count": 47,
   "id": "53438f76",
   "metadata": {},
   "outputs": [
    {
     "data": {
      "text/plain": [
       "array([2, 2, 2, ..., 2, 2, 2])"
      ]
     },
     "execution_count": 47,
     "metadata": {},
     "output_type": "execute_result"
    }
   ],
   "source": [
    "y_train"
   ]
  },
  {
   "cell_type": "code",
   "execution_count": 48,
   "id": "525508d5",
   "metadata": {},
   "outputs": [],
   "source": [
    "X_train.drop(['Entity'],axis=1,inplace=True)\n",
    "X_test.drop(['Entity'],axis=1,inplace=True)"
   ]
  },
  {
   "cell_type": "code",
   "execution_count": 49,
   "id": "85c0cf96",
   "metadata": {},
   "outputs": [
    {
     "data": {
      "text/plain": [
       "MultinomialNB()"
      ]
     },
     "execution_count": 49,
     "metadata": {},
     "output_type": "execute_result"
    }
   ],
   "source": [
    "#model\n",
    "from sklearn.naive_bayes import MultinomialNB\n",
    "model=MultinomialNB()\n",
    "model.fit(X_train_count,y_train)"
   ]
  },
  {
   "cell_type": "code",
   "execution_count": 50,
   "id": "d482001e",
   "metadata": {},
   "outputs": [
    {
     "data": {
      "text/plain": [
       "array([2])"
      ]
     },
     "execution_count": 50,
     "metadata": {},
     "output_type": "execute_result"
    }
   ],
   "source": [
    "comment=[\n",
    "    'I am coming to the borders and I will kill you.'\n",
    "]\n",
    "comment_count=v.transform(comment)\n",
    "model.predict(comment_count)"
   ]
  },
  {
   "cell_type": "code",
   "execution_count": 51,
   "id": "592edee4",
   "metadata": {},
   "outputs": [
    {
     "data": {
      "text/plain": [
       "array([[0, 0, 0, ..., 0, 0, 0],\n",
       "       [0, 0, 0, ..., 0, 0, 0],\n",
       "       [0, 0, 0, ..., 0, 0, 0],\n",
       "       ...,\n",
       "       [0, 0, 0, ..., 0, 0, 0],\n",
       "       [0, 0, 0, ..., 0, 0, 0],\n",
       "       [0, 0, 0, ..., 0, 0, 0]], dtype=int64)"
      ]
     },
     "execution_count": 51,
     "metadata": {},
     "output_type": "execute_result"
    }
   ],
   "source": [
    "X_test_count=v.transform(X_test.Content)\n",
    "X_test_count.toarray()"
   ]
  },
  {
   "cell_type": "code",
   "execution_count": 52,
   "id": "a768d705",
   "metadata": {},
   "outputs": [
    {
     "data": {
      "text/plain": [
       "(1000, 31062)"
      ]
     },
     "execution_count": 52,
     "metadata": {},
     "output_type": "execute_result"
    }
   ],
   "source": [
    "X_test_count.shape"
   ]
  },
  {
   "cell_type": "code",
   "execution_count": 53,
   "id": "61765aa8",
   "metadata": {},
   "outputs": [
    {
     "data": {
      "text/plain": [
       "0.846"
      ]
     },
     "execution_count": 53,
     "metadata": {},
     "output_type": "execute_result"
    }
   ],
   "source": [
    "#score\n",
    "model.score(X_test_count,y_test)"
   ]
  },
  {
   "cell_type": "code",
   "execution_count": null,
   "id": "01b080cf",
   "metadata": {},
   "outputs": [],
   "source": []
  }
 ],
 "metadata": {
  "kernelspec": {
   "display_name": "Python 3 (ipykernel)",
   "language": "python",
   "name": "python3"
  },
  "language_info": {
   "codemirror_mode": {
    "name": "ipython",
    "version": 3
   },
   "file_extension": ".py",
   "mimetype": "text/x-python",
   "name": "python",
   "nbconvert_exporter": "python",
   "pygments_lexer": "ipython3",
   "version": "3.9.13"
  }
 },
 "nbformat": 4,
 "nbformat_minor": 5
}
